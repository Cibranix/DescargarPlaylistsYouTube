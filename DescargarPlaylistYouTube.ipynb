{
  "nbformat": 4,
  "nbformat_minor": 0,
  "metadata": {
    "colab": {
      "provenance": []
    },
    "kernelspec": {
      "name": "python3",
      "display_name": "Python 3"
    },
    "language_info": {
      "name": "python"
    }
  },
  "cells": [
    {
      "cell_type": "markdown",
      "source": [
        "#Descargar playlists de YouTube\n",
        "Primero descargamos y importamos las librerías necesarias."
      ],
      "metadata": {
        "id": "26v1s0IfHeHJ"
      }
    },
    {
      "cell_type": "code",
      "source": [
        "!pip install pytube"
      ],
      "metadata": {
        "colab": {
          "base_uri": "https://localhost:8080/"
        },
        "id": "B8Q0rchVIzbA",
        "outputId": "5e71ceed-4235-432f-9571-3023657eb885"
      },
      "execution_count": 1,
      "outputs": [
        {
          "output_type": "stream",
          "name": "stdout",
          "text": [
            "Looking in indexes: https://pypi.org/simple, https://us-python.pkg.dev/colab-wheels/public/simple/\n",
            "Collecting pytube\n",
            "  Downloading pytube-12.1.2-py3-none-any.whl (57 kB)\n",
            "\u001b[K     |████████████████████████████████| 57 kB 3.8 MB/s \n",
            "\u001b[?25hInstalling collected packages: pytube\n",
            "Successfully installed pytube-12.1.2\n"
          ]
        }
      ]
    },
    {
      "cell_type": "code",
      "execution_count": 2,
      "metadata": {
        "id": "G2hrzr7tHUM3"
      },
      "outputs": [],
      "source": [
        "from pytube import YouTube\n",
        "from pytube import Playlist\n",
        "import shutil\n",
        "import os"
      ]
    },
    {
      "cell_type": "markdown",
      "source": [
        "## Descargar solo audio (mp3)\n",
        "Cargamos la url de la playlist de Youtube a descargar sus videos. Modificar la url por la de la playlist cuyos videos quieres descargar y ejecutar esa celda."
      ],
      "metadata": {
        "id": "oONA6rX-HbCI"
      }
    },
    {
      "cell_type": "code",
      "source": [
        "playlist = Playlist('https://www.youtube.com/playlist?list=PLWfJlbroceBb9YGZ1oD8Z9qcAPQzwYtwA')\n",
        "print(playlist.title)\n",
        "print(playlist.owner)\n",
        "print('Number of videos in playlist: %s' % len(playlist.video_urls))\n",
        "for video_url in playlist.video_urls:\n",
        "    video = YouTube(video_url)\n",
        "    print(video.title)\n",
        "    print(video_url)\n",
        "\n",
        "for video in playlist.videos:\n",
        "    print(video.streams.filter(only_audio=True).first())\n",
        "    out_file = video.streams.filter(only_audio=True).first().download(output_path=\"musica\")\n",
        "    base, ext = os.path.splitext(out_file)\n",
        "    new_file = base + '.mp3'\n",
        "    os.rename(out_file, new_file)\n",
        "    print(video.title + \" descargado sin problemas.\")\n",
        "\n",
        "archivo_zip = shutil.make_archive(\"musica\", \"zip\", \"musica\")\n",
        "print(\"Creado el archivo:\", archivo_zip)"
      ],
      "metadata": {
        "colab": {
          "base_uri": "https://localhost:8080/"
        },
        "id": "Yl19jKxlHbX4",
        "outputId": "9790462c-99b3-4f2b-c213-b32cc6a53b62"
      },
      "execution_count": 3,
      "outputs": [
        {
          "output_type": "stream",
          "name": "stdout",
          "text": [
            "Dark and Darker\n",
            "Menos Trece\n",
            "Number of videos in playlist: 2\n",
            "Una mezcla brutal entre Dark Souls y Escape From Tarkov | DARK AND DARKER Gameplay Español\n",
            "https://www.youtube.com/watch?v=Jp0iCdd58fY\n",
            "¿ES POSIBLE JUGAR SOLO? (vs DÚO y vs TRÍO) | DARK AND DARKER Gameplay Español\n",
            "https://www.youtube.com/watch?v=IF02Ys48Gew\n",
            "<Stream: itag=\"139\" mime_type=\"audio/mp4\" abr=\"48kbps\" acodec=\"mp4a.40.5\" progressive=\"False\" type=\"audio\">\n",
            "Una mezcla brutal entre Dark Souls y Escape From Tarkov | DARK AND DARKER Gameplay Español descargado sin problemas.\n",
            "<Stream: itag=\"139\" mime_type=\"audio/mp4\" abr=\"48kbps\" acodec=\"mp4a.40.5\" progressive=\"False\" type=\"audio\">\n",
            "¿ES POSIBLE JUGAR SOLO? (vs DÚO y vs TRÍO) | DARK AND DARKER Gameplay Español descargado sin problemas.\n",
            "Creado el archivo: /content/musica.zip\n"
          ]
        }
      ]
    },
    {
      "cell_type": "markdown",
      "source": [
        "## Descargar vídeo completo (mp4)\n",
        "Máxima calidad disponible desde 2160p60(4K) hasta 720p.\n",
        "Si no hay esas resoluciones se descargará el vídeo en una calidad más baja. Modificar la url por la de la playlist cuyos videos quieres descargar y ejecutar esa celda."
      ],
      "metadata": {
        "id": "qlzx77F8-4Zi"
      }
    },
    {
      "cell_type": "code",
      "source": [
        "playlist = Playlist('https://www.youtube.com/playlist?list=PLWfJlbroceBb9YGZ1oD8Z9qcAPQzwYtwA')\n",
        "print(playlist.title)\n",
        "print(playlist.owner)\n",
        "print('Number of videos in playlist: %s' % len(playlist.video_urls))\n",
        "for video_url in playlist.video_urls:\n",
        "    video = YouTube(video_url)\n",
        "    print(video.title)\n",
        "    print(video_url)\n",
        "\n",
        "for video in playlist.videos:\n",
        "    print(\"Descargando \\\"\" + video.title + \"\\\" es posible que tarde unos minutos.\")\n",
        "    if len(video.streams.filter(resolution='2160p')) != 0:\n",
        "        out_file = video.streams.filter(resolution='2160p').filter(file_extension='mp4').first().download(output_path=\"descargar\")\n",
        "    elif len(video.streams.filter(resolution='1440p')) != 0:\n",
        "      out_file = video.streams.filter(resolution='1440p').filter(file_extension='mp4').first().download(output_path=\"descargar\")\n",
        "    elif len(video.streams.filter(resolution='1080p')) != 0:\n",
        "      out_file = video.streams.filter(resolution='1080p').filter(file_extension='mp4').first().download(output_path=\"descargar\")\n",
        "    elif len(video.streams.filter(resolution='720p')) != 0:\n",
        "      out_file = video.streams.filter(resolution='720p').filter(file_extension='mp4').first().download(output_path=\"descargar\")\n",
        "    else:\n",
        "      out_file = video.streams.filter(file_extension='mp4').first().download(output_path=\"descargar\")\n",
        "    \n",
        "    print(video.title + \" descargado sin problemas.\")\n",
        "\n",
        "archivo_zip = shutil.make_archive(\"descargar\", \"zip\", \"descargar\")\n",
        "print(\"Creado el archivo:\", archivo_zip)"
      ],
      "metadata": {
        "colab": {
          "base_uri": "https://localhost:8080/"
        },
        "id": "GjOSxo6j_Fzp",
        "outputId": "3675e10e-a35f-4028-b49c-8dd84f3bbfc5"
      },
      "execution_count": 4,
      "outputs": [
        {
          "output_type": "stream",
          "name": "stdout",
          "text": [
            "Dark and Darker\n",
            "Menos Trece\n",
            "Number of videos in playlist: 2\n",
            "Una mezcla brutal entre Dark Souls y Escape From Tarkov | DARK AND DARKER Gameplay Español\n",
            "https://www.youtube.com/watch?v=Jp0iCdd58fY\n",
            "¿ES POSIBLE JUGAR SOLO? (vs DÚO y vs TRÍO) | DARK AND DARKER Gameplay Español\n",
            "https://www.youtube.com/watch?v=IF02Ys48Gew\n",
            "Descargando \"Una mezcla brutal entre Dark Souls y Escape From Tarkov | DARK AND DARKER Gameplay Español\" es posible que tarde unos minutos.\n",
            "Una mezcla brutal entre Dark Souls y Escape From Tarkov | DARK AND DARKER Gameplay Español descargado sin problemas.\n",
            "Descargando \"¿ES POSIBLE JUGAR SOLO? (vs DÚO y vs TRÍO) | DARK AND DARKER Gameplay Español\" es posible que tarde unos minutos.\n",
            "¿ES POSIBLE JUGAR SOLO? (vs DÚO y vs TRÍO) | DARK AND DARKER Gameplay Español descargado sin problemas.\n",
            "Creado el archivo: /content/descargar.zip\n"
          ]
        }
      ]
    },
    {
      "cell_type": "markdown",
      "source": [
        "Una vez ejecutado ir en la izquierda a la carpeta y descargar el zip descargar que se encuentra ahí."
      ],
      "metadata": {
        "id": "8OAhQYqeM1uG"
      }
    }
  ]
}